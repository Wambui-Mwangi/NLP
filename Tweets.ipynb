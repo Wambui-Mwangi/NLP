{
 "cells": [
  {
   "cell_type": "code",
   "execution_count": 17,
   "id": "d2a2a417-a728-4bed-ad8f-f9789efe19cb",
   "metadata": {
    "tags": []
   },
   "outputs": [],
   "source": [
    "import nltk"
   ]
  },
  {
   "cell_type": "code",
   "execution_count": 18,
   "id": "5a48a02f-dd76-4f29-be26-0533fb688da0",
   "metadata": {
    "tags": []
   },
   "outputs": [
    {
     "name": "stderr",
     "output_type": "stream",
     "text": [
      "[nltk_data] Downloading package twitter_samples to\n",
      "[nltk_data]     /home/oem/nltk_data...\n",
      "[nltk_data]   Package twitter_samples is already up-to-date!\n"
     ]
    },
    {
     "data": {
      "text/plain": [
       "True"
      ]
     },
     "execution_count": 18,
     "metadata": {},
     "output_type": "execute_result"
    }
   ],
   "source": [
    "nltk.download(\"twitter_samples\")"
   ]
  },
  {
   "cell_type": "code",
   "execution_count": 19,
   "id": "c7c82cc0-e5c9-4bb4-b5e0-017dbd0f61ca",
   "metadata": {
    "tags": []
   },
   "outputs": [],
   "source": [
    "from nltk.corpus import twitter_samples"
   ]
  },
  {
   "cell_type": "code",
   "execution_count": 20,
   "id": "4324ac02-c527-4685-a350-210230134f4d",
   "metadata": {
    "tags": []
   },
   "outputs": [
    {
     "data": {
      "text/plain": [
       "3"
      ]
     },
     "execution_count": 20,
     "metadata": {},
     "output_type": "execute_result"
    }
   ],
   "source": [
    "len(twitter_samples.fileids())"
   ]
  },
  {
   "cell_type": "code",
   "execution_count": 21,
   "id": "d5129062-65ae-4623-b426-23e29992b705",
   "metadata": {
    "tags": []
   },
   "outputs": [
    {
     "data": {
      "text/plain": [
       "['negative_tweets.json', 'positive_tweets.json', 'tweets.20150430-223406.json']"
      ]
     },
     "execution_count": 21,
     "metadata": {},
     "output_type": "execute_result"
    }
   ],
   "source": [
    "twitter_samples.fileids()"
   ]
  },
  {
   "cell_type": "code",
   "execution_count": 22,
   "id": "975faace-b3fa-4468-893d-35a28ecf5378",
   "metadata": {
    "tags": []
   },
   "outputs": [],
   "source": [
    "# twitter_samples.concordance(\"Happy\")"
   ]
  },
  {
   "cell_type": "code",
   "execution_count": 23,
   "id": "036163ca-6522-40d8-b797-ded16b0311ee",
   "metadata": {
    "tags": []
   },
   "outputs": [],
   "source": [
    "positive_fileids = twitter_samples.strings('positive_tweets.json')\n",
    "negative_fileids = twitter_samples.strings('negative_tweets.json')\n",
    "mixed_fileids = twitter_samples.strings('tweets.20150430-223406.json')"
   ]
  },
  {
   "cell_type": "code",
   "execution_count": 24,
   "id": "35ee8117-d0cd-4509-a847-80332d777f91",
   "metadata": {
    "tags": []
   },
   "outputs": [
    {
     "data": {
      "text/plain": [
       "(5000, 5000, 20000)"
      ]
     },
     "execution_count": 24,
     "metadata": {},
     "output_type": "execute_result"
    }
   ],
   "source": [
    "len(negative_fileids), len(positive_fileids), len(mixed_fileids)"
   ]
  },
  {
   "cell_type": "code",
   "execution_count": 25,
   "id": "40918af8-2ff1-42f2-bb32-8cc0d928676e",
   "metadata": {
    "tags": []
   },
   "outputs": [],
   "source": [
    "# print(twitter_samples.raw(fileids=positive_fileids[0]))\n",
    "# print(twitter_samples.raw(fileids=positive_fileids[0]))"
   ]
  },
  {
   "cell_type": "code",
   "execution_count": 26,
   "id": "eee36082-81b4-46d4-af26-98d939d068e6",
   "metadata": {
    "tags": []
   },
   "outputs": [
    {
     "data": {
      "text/plain": [
       "'cries bc i miss mingming so much :-('"
      ]
     },
     "execution_count": 26,
     "metadata": {},
     "output_type": "execute_result"
    }
   ],
   "source": [
    "tweets = twitter_samples.strings()\n",
    "tweets[25]"
   ]
  },
  {
   "cell_type": "code",
   "execution_count": 27,
   "id": "8251c56c-ae68-45c4-bf38-b0e231fe19d3",
   "metadata": {
    "tags": []
   },
   "outputs": [
    {
     "data": {
      "text/plain": [
       "['oh', 'god,', 'my', \"babies'\", 'faces', ':(', 'https://t.co/9fcwGvaki0']"
      ]
     },
     "execution_count": 27,
     "metadata": {},
     "output_type": "execute_result"
    }
   ],
   "source": [
    "split_tweets = [tweet.split() for tweet in tweets]\n",
    "split_tweets[5]"
   ]
  },
  {
   "cell_type": "code",
   "execution_count": 28,
   "id": "900eaa27-80a5-4295-abd8-eebe5c689752",
   "metadata": {
    "tags": []
   },
   "outputs": [
    {
     "name": "stderr",
     "output_type": "stream",
     "text": [
      "[nltk_data] Downloading package punkt to /home/oem/nltk_data...\n",
      "[nltk_data]   Package punkt is already up-to-date!\n"
     ]
    },
    {
     "data": {
      "text/plain": [
       "True"
      ]
     },
     "execution_count": 28,
     "metadata": {},
     "output_type": "execute_result"
    }
   ],
   "source": [
    "nltk.download (\"punkt\")"
   ]
  },
  {
   "cell_type": "code",
   "execution_count": 29,
   "id": "d98a8bef-5b26-4aea-ae22-c90e73ba3f9f",
   "metadata": {
    "tags": []
   },
   "outputs": [
    {
     "data": {
      "text/plain": [
       "[['hopeless'], ['for'], ['tmr'], [':', '(']]"
      ]
     },
     "execution_count": 29,
     "metadata": {},
     "output_type": "execute_result"
    }
   ],
   "source": [
    "tokenized_tweets = [[nltk.word_tokenize(word) for word in tweet] for tweet in split_tweets]\n",
    "tokenized_tweets[0]"
   ]
  },
  {
   "cell_type": "code",
   "execution_count": 30,
   "id": "d17515d7-e524-455b-8b00-4702d87ec100",
   "metadata": {
    "tags": []
   },
   "outputs": [
    {
     "ename": "AttributeError",
     "evalue": "'list' object has no attribute 'words'",
     "output_type": "error",
     "traceback": [
      "\u001b[0;31m---------------------------------------------------------------------------\u001b[0m",
      "\u001b[0;31mAttributeError\u001b[0m                            Traceback (most recent call last)",
      "Cell \u001b[0;32mIn[30], line 1\u001b[0m\n\u001b[0;32m----> 1\u001b[0m tokenized_tweets\u001b[38;5;241m.\u001b[39mwords(fileids\u001b[38;5;241m=\u001b[39mpositive_fileids[\u001b[38;5;241m0\u001b[39m])\n",
      "\u001b[0;31mAttributeError\u001b[0m: 'list' object has no attribute 'words'"
     ]
    }
   ],
   "source": []
  },
  {
   "cell_type": "code",
   "execution_count": null,
   "id": "3bfcd5e2-c1fd-457b-9e95-cf51507cebcc",
   "metadata": {},
   "outputs": [],
   "source": []
  }
 ],
 "metadata": {
  "kernelspec": {
   "display_name": "Python 3 (ipykernel)",
   "language": "python",
   "name": "python3"
  },
  "language_info": {
   "codemirror_mode": {
    "name": "ipython",
    "version": 3
   },
   "file_extension": ".py",
   "mimetype": "text/x-python",
   "name": "python",
   "nbconvert_exporter": "python",
   "pygments_lexer": "ipython3",
   "version": "3.11.5"
  }
 },
 "nbformat": 4,
 "nbformat_minor": 5
}
